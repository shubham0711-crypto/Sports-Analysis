{
  "cells": [
    {
      "cell_type": "code",
      "execution_count": null,
      "metadata": {
        "colab": {
          "base_uri": "https://localhost:8080/"
        },
        "id": "cYyu0eLx1dVO",
        "outputId": "0ac744dc-b126-4751-bd4a-29b3a7106c76"
      },
      "outputs": [
        {
          "output_type": "stream",
          "name": "stderr",
          "text": [
            "/usr/local/lib/python3.10/dist-packages/dask/dataframe/__init__.py:42: FutureWarning: \n",
            "Dask dataframe query planning is disabled because dask-expr is not installed.\n",
            "\n",
            "You can install it with `pip install dask[dataframe]` or `conda install dask`.\n",
            "This will raise in a future version.\n",
            "\n",
            "  warnings.warn(msg, FutureWarning)\n"
          ]
        }
      ],
      "source": [
        "import pandas as pd\n",
        "from sklearn.model_selection import train_test_split\n",
        "import lightgbm as lgb\n",
        "from sklearn.metrics import mean_absolute_error"
      ]
    },
    {
      "cell_type": "code",
      "execution_count": null,
      "metadata": {
        "id": "HHIFdeij1dVQ"
      },
      "outputs": [],
      "source": [
        "# Load the dataset\n",
        "file_path = 'games.csv'\n",
        "data = pd.read_csv(file_path)"
      ]
    },
    {
      "cell_type": "code",
      "execution_count": null,
      "metadata": {
        "id": "hEpX35QH1dVR"
      },
      "outputs": [],
      "source": [
        "# Filter dataset for regular season games\n",
        "data = data[data['game_type'] == 'REG']"
      ]
    },
    {
      "cell_type": "code",
      "source": [
        "# Convert game time to numeric\n",
        "#\n",
        "\n",
        "def convert_gametime(gametime_str):\n",
        "  \"\"\"Converts gametime string to decimal representation.\"\"\"\n",
        "  try:\n",
        "    hours, minutes = map(int, gametime_str.split(':'))\n",
        "    return hours + minutes / 60\n",
        "  except:\n",
        "    return None  # Or handle invalid input in a way that makes sense for your data\n",
        "\n",
        "\n",
        "data['gametime'] = data['gametime'].apply(convert_gametime)"
      ],
      "metadata": {
        "id": "2h8-d3573Hd7"
      },
      "execution_count": null,
      "outputs": []
    },
    {
      "cell_type": "code",
      "execution_count": null,
      "metadata": {
        "id": "QKPZXRj01dVR"
      },
      "outputs": [],
      "source": [
        "# Select relevant features and target variable\n",
        "features = ['week', 'weekday', 'gametime', 'away_team', 'home_team', 'div_game', 'roof', 'surface', 'temp', 'wind']\n",
        "target = data['home_score'] + data['away_score']"
      ]
    },
    {
      "cell_type": "code",
      "execution_count": null,
      "metadata": {
        "id": "nw2ObOss1dVR"
      },
      "outputs": [],
      "source": [
        "# One-hot encode categorical features\n",
        "data_encoded = pd.get_dummies(data[features], columns=['weekday', 'away_team', 'home_team', 'div_game', 'roof', 'surface'], drop_first=True)"
      ]
    },
    {
      "cell_type": "code",
      "execution_count": null,
      "metadata": {
        "id": "SF8Hc33h1dVS"
      },
      "outputs": [],
      "source": [
        "# Train-test split\n",
        "data = data.dropna(subset=['home_score', 'away_score'])\n",
        "X_train, X_test, y_train, y_test = train_test_split(data_encoded, target, test_size=0.2, random_state=42)"
      ]
    },
    {
      "cell_type": "code",
      "execution_count": null,
      "metadata": {
        "id": "wQOVzUMk1dVS"
      },
      "outputs": [],
      "source": [
        "# Create LightGBM dataset\n",
        "train_data = lgb.Dataset(X_train, label=y_train)\n",
        "test_data = lgb.Dataset(X_test, label=y_test, reference=train_data)"
      ]
    },
    {
      "source": [
        "# Set parameters for LightGBM\n",
        "params = {\n",
        "    'objective': 'regression',\n",
        "    'metric': 'mae',  # Mean Absolute Error\n",
        "    'boosting_type': 'gbdt',\n",
        "    'learning_rate': 0.05,\n",
        "    'num_leaves': 31,\n",
        "    'verbose': -1\n",
        "}\n",
        "\n",
        "# Train the model using early stopping callback\n",
        "model = lgb.train(\n",
        "    params,\n",
        "    train_data,\n",
        "    valid_sets=[test_data],\n",
        "    num_boost_round=1000,  # Specify maximum number of boosting rounds\n",
        "    callbacks=[lgb.early_stopping(stopping_rounds=50, verbose=False),\n",
        "               lgb.log_evaluation(period=50, show_stdv=False)]  # Log evaluation every 50 rounds\n",
        ")"
      ],
      "cell_type": "code",
      "metadata": {
        "colab": {
          "base_uri": "https://localhost:8080/"
        },
        "id": "E624O0y-2kyz",
        "outputId": "5be1afa3-ddbc-4ee8-c107-bbf8593e6246"
      },
      "execution_count": null,
      "outputs": [
        {
          "output_type": "stream",
          "name": "stdout",
          "text": [
            "[50]\tvalid_0's l1: 11.2465\n"
          ]
        }
      ]
    },
    {
      "cell_type": "code",
      "source": [
        "print(y_test.isna().sum())  # Check for NaNs in true values\n",
        "print(pd.isna(y_pred).sum())  # Check for NaNs in predictions\n"
      ],
      "metadata": {
        "colab": {
          "base_uri": "https://localhost:8080/"
        },
        "id": "7xX95oOz7qvg",
        "outputId": "ed85ac3d-0d13-4ac9-94f8-a68202663591"
      },
      "execution_count": null,
      "outputs": [
        {
          "output_type": "stream",
          "name": "stdout",
          "text": [
            "32\n",
            "0\n"
          ]
        }
      ]
    },
    {
      "cell_type": "code",
      "execution_count": null,
      "metadata": {
        "colab": {
          "base_uri": "https://localhost:8080/"
        },
        "id": "yEiLp_7D1dVS",
        "outputId": "226f6419-c131-4048-b72c-4ae92fd37176"
      },
      "outputs": [
        {
          "output_type": "stream",
          "name": "stdout",
          "text": [
            "Mean Absolute Error: 10.966525379319727\n"
          ]
        }
      ],
      "source": [
        "# Drop NaNs from y_test and y_pred\n",
        "non_nan_indices = ~pd.isna(y_test) & ~pd.isna(y_pred)  # Keep rows where both y_test and y_pred are not NaN\n",
        "y_test_clean = y_test[non_nan_indices]\n",
        "y_pred_clean = y_pred[non_nan_indices]\n",
        "\n",
        "# Calculate MAE\n",
        "mae = mean_absolute_error(y_test_clean, y_pred_clean)\n",
        "print(f\"Mean Absolute Error: {mae}\")\n"
      ]
    },
    {
      "cell_type": "code",
      "source": [],
      "metadata": {
        "id": "BIv980nY2JQo"
      },
      "execution_count": null,
      "outputs": []
    }
  ],
  "metadata": {
    "kernelspec": {
      "display_name": "Python 3",
      "language": "python",
      "name": "python3"
    },
    "language_info": {
      "codemirror_mode": {
        "name": "ipython",
        "version": 3
      },
      "file_extension": ".py",
      "mimetype": "text/x-python",
      "name": "python",
      "nbconvert_exporter": "python",
      "pygments_lexer": "ipython3",
      "version": "3.9.12"
    },
    "colab": {
      "provenance": []
    }
  },
  "nbformat": 4,
  "nbformat_minor": 0
}